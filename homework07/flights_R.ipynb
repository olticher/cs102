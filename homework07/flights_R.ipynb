{
 "cells": [
  {
   "cell_type": "code",
   "execution_count": 33,
   "metadata": {},
   "outputs": [
    {
     "name": "stderr",
     "output_type": "stream",
     "text": [
      "Loading required package: ggplot2\n",
      "\n",
      "\n",
      "Attaching package: 'plotly'\n",
      "\n",
      "\n",
      "The following object is masked from 'package:ggplot2':\n",
      "\n",
      "    last_plot\n",
      "\n",
      "\n",
      "The following object is masked from 'package:stats':\n",
      "\n",
      "    filter\n",
      "\n",
      "\n",
      "The following object is masked from 'package:graphics':\n",
      "\n",
      "    layout\n",
      "\n",
      "\n",
      "\n",
      "Attaching package: 'dplyr'\n",
      "\n",
      "\n",
      "The following objects are masked from 'package:stats':\n",
      "\n",
      "    filter, lag\n",
      "\n",
      "\n",
      "The following objects are masked from 'package:base':\n",
      "\n",
      "    intersect, setdiff, setequal, union\n",
      "\n",
      "\n"
     ]
    }
   ],
   "source": [
    "library(plotly)\n",
    "library(dplyr)"
   ]
  },
  {
   "cell_type": "code",
   "execution_count": 1,
   "metadata": {},
   "outputs": [
    {
     "data": {
      "text/html": [
       "<table>\n",
       "<caption>A data.frame: 6 × 29</caption>\n",
       "<thead>\n",
       "\t<tr><th></th><th scope=col>Year</th><th scope=col>Month</th><th scope=col>DayofMonth</th><th scope=col>DayOfWeek</th><th scope=col>DepTime</th><th scope=col>CRSDepTime</th><th scope=col>ArrTime</th><th scope=col>CRSArrTime</th><th scope=col>UniqueCarrier</th><th scope=col>FlightNum</th><th scope=col>...</th><th scope=col>TaxiIn</th><th scope=col>TaxiOut</th><th scope=col>Cancelled</th><th scope=col>CancellationCode</th><th scope=col>Diverted</th><th scope=col>CarrierDelay</th><th scope=col>WeatherDelay</th><th scope=col>NASDelay</th><th scope=col>SecurityDelay</th><th scope=col>LateAircraftDelay</th></tr>\n",
       "\t<tr><th></th><th scope=col>&lt;int&gt;</th><th scope=col>&lt;int&gt;</th><th scope=col>&lt;int&gt;</th><th scope=col>&lt;int&gt;</th><th scope=col>&lt;int&gt;</th><th scope=col>&lt;int&gt;</th><th scope=col>&lt;int&gt;</th><th scope=col>&lt;int&gt;</th><th scope=col>&lt;fct&gt;</th><th scope=col>&lt;int&gt;</th><th scope=col>...</th><th scope=col>&lt;int&gt;</th><th scope=col>&lt;int&gt;</th><th scope=col>&lt;int&gt;</th><th scope=col>&lt;fct&gt;</th><th scope=col>&lt;int&gt;</th><th scope=col>&lt;int&gt;</th><th scope=col>&lt;int&gt;</th><th scope=col>&lt;int&gt;</th><th scope=col>&lt;int&gt;</th><th scope=col>&lt;int&gt;</th></tr>\n",
       "</thead>\n",
       "<tbody>\n",
       "\t<tr><th scope=row>1</th><td>2008</td><td>1</td><td>3</td><td>4</td><td>2003</td><td>1955</td><td>2211</td><td>2225</td><td>WN</td><td> 335</td><td>...</td><td>4</td><td> 8</td><td>0</td><td></td><td>0</td><td>NA</td><td>NA</td><td>NA</td><td>NA</td><td>NA</td></tr>\n",
       "\t<tr><th scope=row>2</th><td>2008</td><td>1</td><td>3</td><td>4</td><td> 754</td><td> 735</td><td>1002</td><td>1000</td><td>WN</td><td>3231</td><td>...</td><td>5</td><td>10</td><td>0</td><td></td><td>0</td><td>NA</td><td>NA</td><td>NA</td><td>NA</td><td>NA</td></tr>\n",
       "\t<tr><th scope=row>3</th><td>2008</td><td>1</td><td>3</td><td>4</td><td> 628</td><td> 620</td><td> 804</td><td> 750</td><td>WN</td><td> 448</td><td>...</td><td>3</td><td>17</td><td>0</td><td></td><td>0</td><td>NA</td><td>NA</td><td>NA</td><td>NA</td><td>NA</td></tr>\n",
       "\t<tr><th scope=row>4</th><td>2008</td><td>1</td><td>3</td><td>4</td><td> 926</td><td> 930</td><td>1054</td><td>1100</td><td>WN</td><td>1746</td><td>...</td><td>3</td><td> 7</td><td>0</td><td></td><td>0</td><td>NA</td><td>NA</td><td>NA</td><td>NA</td><td>NA</td></tr>\n",
       "\t<tr><th scope=row>5</th><td>2008</td><td>1</td><td>3</td><td>4</td><td>1829</td><td>1755</td><td>1959</td><td>1925</td><td>WN</td><td>3920</td><td>...</td><td>3</td><td>10</td><td>0</td><td></td><td>0</td><td> 2</td><td> 0</td><td> 0</td><td> 0</td><td>32</td></tr>\n",
       "\t<tr><th scope=row>6</th><td>2008</td><td>1</td><td>3</td><td>4</td><td>1940</td><td>1915</td><td>2121</td><td>2110</td><td>WN</td><td> 378</td><td>...</td><td>4</td><td>10</td><td>0</td><td></td><td>0</td><td>NA</td><td>NA</td><td>NA</td><td>NA</td><td>NA</td></tr>\n",
       "</tbody>\n",
       "</table>\n"
      ],
      "text/latex": [
       "A data.frame: 6 × 29\n",
       "\\begin{tabular}{r|lllllllllllllllllllll}\n",
       "  & Year & Month & DayofMonth & DayOfWeek & DepTime & CRSDepTime & ArrTime & CRSArrTime & UniqueCarrier & FlightNum & ... & TaxiIn & TaxiOut & Cancelled & CancellationCode & Diverted & CarrierDelay & WeatherDelay & NASDelay & SecurityDelay & LateAircraftDelay\\\\\n",
       "  & <int> & <int> & <int> & <int> & <int> & <int> & <int> & <int> & <fct> & <int> & ... & <int> & <int> & <int> & <fct> & <int> & <int> & <int> & <int> & <int> & <int>\\\\\n",
       "\\hline\n",
       "\t1 & 2008 & 1 & 3 & 4 & 2003 & 1955 & 2211 & 2225 & WN &  335 & ... & 4 &  8 & 0 &  & 0 & NA & NA & NA & NA & NA\\\\\n",
       "\t2 & 2008 & 1 & 3 & 4 &  754 &  735 & 1002 & 1000 & WN & 3231 & ... & 5 & 10 & 0 &  & 0 & NA & NA & NA & NA & NA\\\\\n",
       "\t3 & 2008 & 1 & 3 & 4 &  628 &  620 &  804 &  750 & WN &  448 & ... & 3 & 17 & 0 &  & 0 & NA & NA & NA & NA & NA\\\\\n",
       "\t4 & 2008 & 1 & 3 & 4 &  926 &  930 & 1054 & 1100 & WN & 1746 & ... & 3 &  7 & 0 &  & 0 & NA & NA & NA & NA & NA\\\\\n",
       "\t5 & 2008 & 1 & 3 & 4 & 1829 & 1755 & 1959 & 1925 & WN & 3920 & ... & 3 & 10 & 0 &  & 0 &  2 &  0 &  0 &  0 & 32\\\\\n",
       "\t6 & 2008 & 1 & 3 & 4 & 1940 & 1915 & 2121 & 2110 & WN &  378 & ... & 4 & 10 & 0 &  & 0 & NA & NA & NA & NA & NA\\\\\n",
       "\\end{tabular}\n"
      ],
      "text/markdown": [
       "\n",
       "A data.frame: 6 × 29\n",
       "\n",
       "| <!--/--> | Year &lt;int&gt; | Month &lt;int&gt; | DayofMonth &lt;int&gt; | DayOfWeek &lt;int&gt; | DepTime &lt;int&gt; | CRSDepTime &lt;int&gt; | ArrTime &lt;int&gt; | CRSArrTime &lt;int&gt; | UniqueCarrier &lt;fct&gt; | FlightNum &lt;int&gt; | ... ... | TaxiIn &lt;int&gt; | TaxiOut &lt;int&gt; | Cancelled &lt;int&gt; | CancellationCode &lt;fct&gt; | Diverted &lt;int&gt; | CarrierDelay &lt;int&gt; | WeatherDelay &lt;int&gt; | NASDelay &lt;int&gt; | SecurityDelay &lt;int&gt; | LateAircraftDelay &lt;int&gt; |\n",
       "|---|---|---|---|---|---|---|---|---|---|---|---|---|---|---|---|---|---|---|---|---|---|\n",
       "| 1 | 2008 | 1 | 3 | 4 | 2003 | 1955 | 2211 | 2225 | WN |  335 | ... | 4 |  8 | 0 | <!----> | 0 | NA | NA | NA | NA | NA |\n",
       "| 2 | 2008 | 1 | 3 | 4 |  754 |  735 | 1002 | 1000 | WN | 3231 | ... | 5 | 10 | 0 | <!----> | 0 | NA | NA | NA | NA | NA |\n",
       "| 3 | 2008 | 1 | 3 | 4 |  628 |  620 |  804 |  750 | WN |  448 | ... | 3 | 17 | 0 | <!----> | 0 | NA | NA | NA | NA | NA |\n",
       "| 4 | 2008 | 1 | 3 | 4 |  926 |  930 | 1054 | 1100 | WN | 1746 | ... | 3 |  7 | 0 | <!----> | 0 | NA | NA | NA | NA | NA |\n",
       "| 5 | 2008 | 1 | 3 | 4 | 1829 | 1755 | 1959 | 1925 | WN | 3920 | ... | 3 | 10 | 0 | <!----> | 0 |  2 |  0 |  0 |  0 | 32 |\n",
       "| 6 | 2008 | 1 | 3 | 4 | 1940 | 1915 | 2121 | 2110 | WN |  378 | ... | 4 | 10 | 0 | <!----> | 0 | NA | NA | NA | NA | NA |\n",
       "\n"
      ],
      "text/plain": [
       "  Year Month DayofMonth DayOfWeek DepTime CRSDepTime ArrTime CRSArrTime\n",
       "1 2008 1     3          4         2003    1955       2211    2225      \n",
       "2 2008 1     3          4          754     735       1002    1000      \n",
       "3 2008 1     3          4          628     620        804     750      \n",
       "4 2008 1     3          4          926     930       1054    1100      \n",
       "5 2008 1     3          4         1829    1755       1959    1925      \n",
       "6 2008 1     3          4         1940    1915       2121    2110      \n",
       "  UniqueCarrier FlightNum ... TaxiIn TaxiOut Cancelled CancellationCode\n",
       "1 WN             335      ... 4       8      0                         \n",
       "2 WN            3231      ... 5      10      0                         \n",
       "3 WN             448      ... 3      17      0                         \n",
       "4 WN            1746      ... 3       7      0                         \n",
       "5 WN            3920      ... 3      10      0                         \n",
       "6 WN             378      ... 4      10      0                         \n",
       "  Diverted CarrierDelay WeatherDelay NASDelay SecurityDelay LateAircraftDelay\n",
       "1 0        NA           NA           NA       NA            NA               \n",
       "2 0        NA           NA           NA       NA            NA               \n",
       "3 0        NA           NA           NA       NA            NA               \n",
       "4 0        NA           NA           NA       NA            NA               \n",
       "5 0         2            0            0        0            32               \n",
       "6 0        NA           NA           NA       NA            NA               "
      ]
     },
     "metadata": {},
     "output_type": "display_data"
    }
   ],
   "source": [
    "df <- read.csv('2008.csv.bz2')\n",
    "head(df)"
   ]
  },
  {
   "cell_type": "code",
   "execution_count": 9,
   "metadata": {},
   "outputs": [
    {
     "data": {
      "text/html": [
       "<style>\n",
       ".list-inline {list-style: none; margin:0; padding: 0}\n",
       ".list-inline>li {display: inline-block}\n",
       ".list-inline>li:not(:last-child)::after {content: \"\\00b7\"; padding: 0 .5ex}\n",
       "</style>\n",
       "<ol class=list-inline><li>7009728</li><li>29</li></ol>\n"
      ],
      "text/latex": [
       "\\begin{enumerate*}\n",
       "\\item 7009728\n",
       "\\item 29\n",
       "\\end{enumerate*}\n"
      ],
      "text/markdown": [
       "1. 7009728\n",
       "2. 29\n",
       "\n",
       "\n"
      ],
      "text/plain": [
       "[1] 7009728      29"
      ]
     },
     "metadata": {},
     "output_type": "display_data"
    }
   ],
   "source": [
    "dim(df)"
   ]
  },
  {
   "cell_type": "code",
   "execution_count": 10,
   "metadata": {},
   "outputs": [
    {
     "data": {
      "text/html": [
       "7009728"
      ],
      "text/latex": [
       "7009728"
      ],
      "text/markdown": [
       "7009728"
      ],
      "text/plain": [
       "[1] 7009728"
      ]
     },
     "metadata": {},
     "output_type": "display_data"
    }
   ],
   "source": [
    "nrow(df)"
   ]
  },
  {
   "cell_type": "code",
   "execution_count": 11,
   "metadata": {},
   "outputs": [
    {
     "data": {
      "text/html": [
       "29"
      ],
      "text/latex": [
       "29"
      ],
      "text/markdown": [
       "29"
      ],
      "text/plain": [
       "[1] 29"
      ]
     },
     "metadata": {},
     "output_type": "display_data"
    }
   ],
   "source": [
    "ncol(df)"
   ]
  },
  {
   "cell_type": "code",
   "execution_count": 12,
   "metadata": {},
   "outputs": [
    {
     "data": {
      "text/html": [
       "<style>\n",
       ".list-inline {list-style: none; margin:0; padding: 0}\n",
       ".list-inline>li {display: inline-block}\n",
       ".list-inline>li:not(:last-child)::after {content: \"\\00b7\"; padding: 0 .5ex}\n",
       "</style>\n",
       "<ol class=list-inline><li>'Year'</li><li>'Month'</li><li>'DayofMonth'</li><li>'DayOfWeek'</li><li>'DepTime'</li><li>'CRSDepTime'</li><li>'ArrTime'</li><li>'CRSArrTime'</li><li>'UniqueCarrier'</li><li>'FlightNum'</li><li>'TailNum'</li><li>'ActualElapsedTime'</li><li>'CRSElapsedTime'</li><li>'AirTime'</li><li>'ArrDelay'</li><li>'DepDelay'</li><li>'Origin'</li><li>'Dest'</li><li>'Distance'</li><li>'TaxiIn'</li><li>'TaxiOut'</li><li>'Cancelled'</li><li>'CancellationCode'</li><li>'Diverted'</li><li>'CarrierDelay'</li><li>'WeatherDelay'</li><li>'NASDelay'</li><li>'SecurityDelay'</li><li>'LateAircraftDelay'</li></ol>\n"
      ],
      "text/latex": [
       "\\begin{enumerate*}\n",
       "\\item 'Year'\n",
       "\\item 'Month'\n",
       "\\item 'DayofMonth'\n",
       "\\item 'DayOfWeek'\n",
       "\\item 'DepTime'\n",
       "\\item 'CRSDepTime'\n",
       "\\item 'ArrTime'\n",
       "\\item 'CRSArrTime'\n",
       "\\item 'UniqueCarrier'\n",
       "\\item 'FlightNum'\n",
       "\\item 'TailNum'\n",
       "\\item 'ActualElapsedTime'\n",
       "\\item 'CRSElapsedTime'\n",
       "\\item 'AirTime'\n",
       "\\item 'ArrDelay'\n",
       "\\item 'DepDelay'\n",
       "\\item 'Origin'\n",
       "\\item 'Dest'\n",
       "\\item 'Distance'\n",
       "\\item 'TaxiIn'\n",
       "\\item 'TaxiOut'\n",
       "\\item 'Cancelled'\n",
       "\\item 'CancellationCode'\n",
       "\\item 'Diverted'\n",
       "\\item 'CarrierDelay'\n",
       "\\item 'WeatherDelay'\n",
       "\\item 'NASDelay'\n",
       "\\item 'SecurityDelay'\n",
       "\\item 'LateAircraftDelay'\n",
       "\\end{enumerate*}\n"
      ],
      "text/markdown": [
       "1. 'Year'\n",
       "2. 'Month'\n",
       "3. 'DayofMonth'\n",
       "4. 'DayOfWeek'\n",
       "5. 'DepTime'\n",
       "6. 'CRSDepTime'\n",
       "7. 'ArrTime'\n",
       "8. 'CRSArrTime'\n",
       "9. 'UniqueCarrier'\n",
       "10. 'FlightNum'\n",
       "11. 'TailNum'\n",
       "12. 'ActualElapsedTime'\n",
       "13. 'CRSElapsedTime'\n",
       "14. 'AirTime'\n",
       "15. 'ArrDelay'\n",
       "16. 'DepDelay'\n",
       "17. 'Origin'\n",
       "18. 'Dest'\n",
       "19. 'Distance'\n",
       "20. 'TaxiIn'\n",
       "21. 'TaxiOut'\n",
       "22. 'Cancelled'\n",
       "23. 'CancellationCode'\n",
       "24. 'Diverted'\n",
       "25. 'CarrierDelay'\n",
       "26. 'WeatherDelay'\n",
       "27. 'NASDelay'\n",
       "28. 'SecurityDelay'\n",
       "29. 'LateAircraftDelay'\n",
       "\n",
       "\n"
      ],
      "text/plain": [
       " [1] \"Year\"              \"Month\"             \"DayofMonth\"       \n",
       " [4] \"DayOfWeek\"         \"DepTime\"           \"CRSDepTime\"       \n",
       " [7] \"ArrTime\"           \"CRSArrTime\"        \"UniqueCarrier\"    \n",
       "[10] \"FlightNum\"         \"TailNum\"           \"ActualElapsedTime\"\n",
       "[13] \"CRSElapsedTime\"    \"AirTime\"           \"ArrDelay\"         \n",
       "[16] \"DepDelay\"          \"Origin\"            \"Dest\"             \n",
       "[19] \"Distance\"          \"TaxiIn\"            \"TaxiOut\"          \n",
       "[22] \"Cancelled\"         \"CancellationCode\"  \"Diverted\"         \n",
       "[25] \"CarrierDelay\"      \"WeatherDelay\"      \"NASDelay\"         \n",
       "[28] \"SecurityDelay\"     \"LateAircraftDelay\""
      ]
     },
     "metadata": {},
     "output_type": "display_data"
    }
   ],
   "source": [
    "colnames(df)"
   ]
  },
  {
   "cell_type": "code",
   "execution_count": 13,
   "metadata": {},
   "outputs": [
    {
     "name": "stdout",
     "output_type": "stream",
     "text": [
      "'data.frame':\t7009728 obs. of  29 variables:\n",
      " $ Year             : int  2008 2008 2008 2008 2008 2008 2008 2008 2008 2008 ...\n",
      " $ Month            : int  1 1 1 1 1 1 1 1 1 1 ...\n",
      " $ DayofMonth       : int  3 3 3 3 3 3 3 3 3 3 ...\n",
      " $ DayOfWeek        : int  4 4 4 4 4 4 4 4 4 4 ...\n",
      " $ DepTime          : int  2003 754 628 926 1829 1940 1937 1039 617 1620 ...\n",
      " $ CRSDepTime       : int  1955 735 620 930 1755 1915 1830 1040 615 1620 ...\n",
      " $ ArrTime          : int  2211 1002 804 1054 1959 2121 2037 1132 652 1639 ...\n",
      " $ CRSArrTime       : int  2225 1000 750 1100 1925 2110 1940 1150 650 1655 ...\n",
      " $ UniqueCarrier    : Factor w/ 20 levels \"9E\",\"AA\",\"AQ\",..: 18 18 18 18 18 18 18 18 18 18 ...\n",
      " $ FlightNum        : int  335 3231 448 1746 3920 378 509 535 11 810 ...\n",
      " $ TailNum          : Factor w/ 5374 levels \"\",\"80009E\",\"80019E\",..: 3769 4129 1961 3059 2142 3852 4062 1961 3616 3324 ...\n",
      " $ ActualElapsedTime: int  128 128 96 88 90 101 240 233 95 79 ...\n",
      " $ CRSElapsedTime   : int  150 145 90 90 90 115 250 250 95 95 ...\n",
      " $ AirTime          : int  116 113 76 78 77 87 230 219 70 70 ...\n",
      " $ ArrDelay         : int  -14 2 14 -6 34 11 57 -18 2 -16 ...\n",
      " $ DepDelay         : int  8 19 8 -4 34 25 67 -1 2 0 ...\n",
      " $ Origin           : Factor w/ 303 levels \"ABE\",\"ABI\",\"ABQ\",..: 136 136 141 141 141 141 141 141 141 141 ...\n",
      " $ Dest             : Factor w/ 304 levels \"ABE\",\"ABI\",\"ABQ\",..: 287 287 49 49 49 151 157 157 177 177 ...\n",
      " $ Distance         : int  810 810 515 515 515 688 1591 1591 451 451 ...\n",
      " $ TaxiIn           : int  4 5 3 3 3 4 3 7 6 3 ...\n",
      " $ TaxiOut          : int  8 10 17 7 10 10 7 7 19 6 ...\n",
      " $ Cancelled        : int  0 0 0 0 0 0 0 0 0 0 ...\n",
      " $ CancellationCode : Factor w/ 5 levels \"\",\"A\",\"B\",\"C\",..: 1 1 1 1 1 1 1 1 1 1 ...\n",
      " $ Diverted         : int  0 0 0 0 0 0 0 0 0 0 ...\n",
      " $ CarrierDelay     : int  NA NA NA NA 2 NA 10 NA NA NA ...\n",
      " $ WeatherDelay     : int  NA NA NA NA 0 NA 0 NA NA NA ...\n",
      " $ NASDelay         : int  NA NA NA NA 0 NA 0 NA NA NA ...\n",
      " $ SecurityDelay    : int  NA NA NA NA 0 NA 0 NA NA NA ...\n",
      " $ LateAircraftDelay: int  NA NA NA NA 32 NA 47 NA NA NA ...\n"
     ]
    }
   ],
   "source": [
    "str(df)"
   ]
  },
  {
   "cell_type": "code",
   "execution_count": 16,
   "metadata": {},
   "outputs": [
    {
     "data": {
      "text/plain": [
       "      Year          Month          DayofMonth      DayOfWeek    \n",
       " Min.   :2008   Min.   : 1.000   Min.   : 1.00   Min.   :1.000  \n",
       " 1st Qu.:2008   1st Qu.: 3.000   1st Qu.: 8.00   1st Qu.:2.000  \n",
       " Median :2008   Median : 6.000   Median :16.00   Median :4.000  \n",
       " Mean   :2008   Mean   : 6.375   Mean   :15.73   Mean   :3.924  \n",
       " 3rd Qu.:2008   3rd Qu.: 9.000   3rd Qu.:23.00   3rd Qu.:6.000  \n",
       " Max.   :2008   Max.   :12.000   Max.   :31.00   Max.   :7.000  \n",
       "                                                                \n",
       "    DepTime         CRSDepTime      ArrTime         CRSArrTime  \n",
       " Min.   :   1     Min.   :   0   Min.   :   1     Min.   :   0  \n",
       " 1st Qu.: 928     1st Qu.: 925   1st Qu.:1107     1st Qu.:1115  \n",
       " Median :1325     Median :1320   Median :1512     Median :1517  \n",
       " Mean   :1334     Mean   :1326   Mean   :1481     Mean   :1495  \n",
       " 3rd Qu.:1728     3rd Qu.:1715   3rd Qu.:1909     3rd Qu.:1907  \n",
       " Max.   :2400     Max.   :2359   Max.   :2400     Max.   :2400  \n",
       " NA's   :136246                  NA's   :151649                 \n",
       " UniqueCarrier       FlightNum       TailNum        ActualElapsedTime\n",
       " WN     :1201754   Min.   :   1          :  83365   Min.   :  12.0   \n",
       " AA     : 604885   1st Qu.: 622   N476HA :   4701   1st Qu.:  77.0   \n",
       " OO     : 567159   Median :1571   N477HA :   4548   Median : 110.0   \n",
       " MQ     : 490693   Mean   :2224   N484HA :   4505   Mean   : 127.3   \n",
       " US     : 453589   3rd Qu.:3518   N475HA :   4499   3rd Qu.: 157.0   \n",
       " DL     : 451931   Max.   :9743   N480HA :   4416   Max.   :1379.0   \n",
       " (Other):3239717                  (Other):6903694   NA's   :154699   \n",
       " CRSElapsedTime      AirTime          ArrDelay          DepDelay      \n",
       " Min.   :-141.0   Min.   :   0     Min.   :-519.00   Min.   :-534.00  \n",
       " 1st Qu.:  80.0   1st Qu.:  55     1st Qu.: -10.00   1st Qu.:  -4.00  \n",
       " Median : 110.0   Median :  86     Median :  -2.00   Median :  -1.00  \n",
       " Mean   : 128.9   Mean   : 104     Mean   :   8.17   Mean   :   9.97  \n",
       " 3rd Qu.: 159.0   3rd Qu.: 132     3rd Qu.:  12.00   3rd Qu.:   8.00  \n",
       " Max.   :1435.0   Max.   :1350     Max.   :2461.00   Max.   :2467.00  \n",
       " NA's   :844      NA's   :154699   NA's   :154699    NA's   :136246   \n",
       "     Origin             Dest            Distance          TaxiIn      \n",
       " ATL    : 414513   ATL    : 414521   Min.   :  11.0   Min.   :  0.00  \n",
       " ORD    : 350380   ORD    : 350452   1st Qu.: 325.0   1st Qu.:  4.00  \n",
       " DFW    : 281281   DFW    : 281401   Median : 581.0   Median :  6.00  \n",
       " DEN    : 241443   DEN    : 241470   Mean   : 726.4   Mean   :  6.86  \n",
       " LAX    : 215608   LAX    : 215685   3rd Qu.: 954.0   3rd Qu.:  8.00  \n",
       " PHX    : 199408   PHX    : 199416   Max.   :4962.0   Max.   :308.00  \n",
       " (Other):5307095   (Other):5306783                    NA's   :151649  \n",
       "    TaxiOut         Cancelled       CancellationCode    Diverted       \n",
       " Min.   :  0.00   Min.   :0.00000    :6872294        Min.   :0.000000  \n",
       " 1st Qu.: 10.00   1st Qu.:0.00000   A:  54330        1st Qu.:0.000000  \n",
       " Median : 14.00   Median :0.00000   B:  54904        Median :0.000000  \n",
       " Mean   : 16.45   Mean   :0.01961   C:  28188        Mean   :0.002463  \n",
       " 3rd Qu.: 19.00   3rd Qu.:0.00000   D:     12        3rd Qu.:0.000000  \n",
       " Max.   :429.00   Max.   :1.00000                    Max.   :1.000000  \n",
       " NA's   :137058                                                        \n",
       "  CarrierDelay      WeatherDelay        NASDelay       SecurityDelay    \n",
       " Min.   :   0      Min.   :   0      Min.   :   0      Min.   :  0      \n",
       " 1st Qu.:   0      1st Qu.:   0      1st Qu.:   0      1st Qu.:  0      \n",
       " Median :   0      Median :   0      Median :   6      Median :  0      \n",
       " Mean   :  16      Mean   :   3      Mean   :  17      Mean   :  0      \n",
       " 3rd Qu.:  16      3rd Qu.:   0      3rd Qu.:  21      3rd Qu.:  0      \n",
       " Max.   :2436      Max.   :1352      Max.   :1357      Max.   :392      \n",
       " NA's   :5484993   NA's   :5484993   NA's   :5484993   NA's   :5484993  \n",
       " LateAircraftDelay\n",
       " Min.   :   0     \n",
       " 1st Qu.:   0     \n",
       " Median :   0     \n",
       " Mean   :  21     \n",
       " 3rd Qu.:  26     \n",
       " Max.   :1316     \n",
       " NA's   :5484993  "
      ]
     },
     "metadata": {},
     "output_type": "display_data"
    }
   ],
   "source": [
    "summary(df)"
   ]
  },
  {
   "cell_type": "markdown",
   "metadata": {},
   "source": [
    "# The tasks"
   ]
  },
  {
   "cell_type": "markdown",
   "metadata": {},
   "source": [
    "**1. Find top-10 carriers in terms of the number of completed flights (_UniqueCarrier_ column)?**\n",
    "\n",
    "**Which of the listed below is _not_ in your top-10 list?**\n",
    "- DL\n",
    "- AA\n",
    "- OO\n",
    "- ___EV___ "
   ]
  },
  {
   "cell_type": "code",
   "execution_count": 31,
   "metadata": {},
   "outputs": [
    {
     "data": {
      "image/png": "[encoded data removed]",
      "text/plain": [
       "plot without title"
      ]
     },
     "metadata": {
      "image/png": {
       "height": 420,
       "width": 420
      },
      "text/plain": {
       "height": 420,
       "width": 420
      }
     },
     "output_type": "display_data"
    }
   ],
   "source": [
    "barplot(sort(table(df['UniqueCarrier']), decreasing = TRUE)[0:10])"
   ]
  },
  {
   "cell_type": "markdown",
   "metadata": {},
   "source": [
    "**2. Plot distributions of flight cancellation reasons (_CancellationCode_).**\n",
    "\n",
    "**What is the most frequent reason for flight cancellation? (Use this [link](https://www.transtats.bts.gov/Fields.asp?Table_ID=236) to translate codes into reasons)**\n",
    "- carrier\n",
    "- ___weather conditions___ \n",
    "- National Air System\n",
    "- security reasons"
   ]
  },
  {
   "cell_type": "code",
   "execution_count": 39,
   "metadata": {},
   "outputs": [
    {
     "data": {
      "image/png": "[encoded data removed]",
      "text/plain": [
       "plot without title"
      ]
     },
     "metadata": {
      "image/png": {
       "height": 420,
       "width": 420
      },
      "text/plain": {
       "height": 420,
       "width": 420
      }
     },
     "output_type": "display_data"
    }
   ],
   "source": [
    "barplot(sort(table(df['CancellationCode']), decreasing=TRUE)[2:5])"
   ]
  },
  {
   "cell_type": "markdown",
   "metadata": {},
   "source": [
    "**3. Which route is the most frequent, in terms of the number of flights?**\n",
    "\n",
    "(Take a look at _'Origin'_ and _'Dest'_ features. Consider _A->B_ and _B->A_ directions as _different_ routes) \n",
    "\n",
    " - New-York – Washington\n",
    " - ___San-Francisco – Los-Angeles___ \n",
    " - San-Jose – Dallas\n",
    " - New-York – San-Francisco"
   ]
  },
  {
   "cell_type": "code",
   "execution_count": 77,
   "metadata": {},
   "outputs": [
    {
     "data": {
      "text/html": [
       "<table>\n",
       "<caption>A grouped_df: 1 × 3</caption>\n",
       "<thead>\n",
       "\t<tr><th scope=col>Origin</th><th scope=col>Dest</th><th scope=col>count</th></tr>\n",
       "\t<tr><th scope=col>&lt;fct&gt;</th><th scope=col>&lt;fct&gt;</th><th scope=col>&lt;int&gt;</th></tr>\n",
       "</thead>\n",
       "<tbody>\n",
       "\t<tr><td>SFO</td><td>LAX</td><td>13788</td></tr>\n",
       "</tbody>\n",
       "</table>\n"
      ],
      "text/latex": [
       "A grouped\\_df: 1 × 3\n",
       "\\begin{tabular}{lll}\n",
       " Origin & Dest & count\\\\\n",
       " <fct> & <fct> & <int>\\\\\n",
       "\\hline\n",
       "\t SFO & LAX & 13788\\\\\n",
       "\\end{tabular}\n"
      ],
      "text/markdown": [
       "\n",
       "A grouped_df: 1 × 3\n",
       "\n",
       "| Origin &lt;fct&gt; | Dest &lt;fct&gt; | count &lt;int&gt; |\n",
       "|---|---|---|\n",
       "| SFO | LAX | 13788 |\n",
       "\n"
      ],
      "text/plain": [
       "  Origin Dest count\n",
       "1 SFO    LAX  13788"
      ]
     },
     "metadata": {},
     "output_type": "display_data"
    }
   ],
   "source": [
    "df2 <- df %>% group_by(Origin, Dest) %>% summarise(count = n()) %>% arrange(desc(count))\n",
    "df2[df2$count == max(df2$count),]"
   ]
  },
  {
   "cell_type": "markdown",
   "metadata": {},
   "source": [
    "**4. Find top-5 delayed routes (count how many times they were delayed on departure). From all flights on these 5 routes, count all flights with weather conditions contributing to a delay.**\n",
    "\n",
    "- 449 \n",
    "- 539 \n",
    "- 549 \n",
    "- ___668___ "
   ]
  },
  {
   "cell_type": "code",
   "execution_count": 96,
   "metadata": {},
   "outputs": [
    {
     "data": {
      "text/html": [
       "668"
      ],
      "text/latex": [
       "668"
      ],
      "text/markdown": [
       "668"
      ],
      "text/plain": [
       "[1] 668"
      ]
     },
     "metadata": {},
     "output_type": "display_data"
    }
   ],
   "source": [
    "filter(df, DepDelay>0) %>% group_by(Origin, Dest) %>% summarize(count = n(), w = length(which(WeatherDelay > 0))) %>% arrange(desc(count)) %>% .[1:5, 'w'] %>% sum()"
   ]
  },
  {
   "cell_type": "markdown",
   "metadata": {},
   "source": [
    "**5. Examine the hourly distribution of departure times. For that, create a new series from DepTime, removing missing values.**\n",
    "\n",
    "**Choose all correct statements:**\n",
    " - Flights are normally distributed within time interval [0-23] (Search for: Normal distribution, bell curve).\n",
    " - Flights are uniformly distributed within time interval [0-23].\n",
    " - ___In the period from 0 am to 4 am there are considerably less flights than from 7 pm to 8 pm.___"
   ]
  },
  {
   "cell_type": "code",
   "execution_count": 6,
   "metadata": {},
   "outputs": [
    {
     "data": {
      "image/png": "[encoded data removed]",
      "text/plain": [
       "plot without title"
      ]
     },
     "metadata": {
      "image/png": {
       "height": 420,
       "width": 420
      },
      "text/plain": {
       "height": 420,
       "width": 420
      }
     },
     "output_type": "display_data"
    }
   ],
   "source": [
    "df3 <- df[!is.na(df['DepTime']), c('DepTime','Year')]\n",
    "df3$DepTime <- sapply(df3$DepTime, function(x) (x %/% 100) %% 24)\n",
    "barplot(table(df3['DepTime']))"
   ]
  },
  {
   "cell_type": "markdown",
   "metadata": {},
   "source": [
    "**6. Show how the number of flights changes through time (on the daily/weekly/monthly basis) and interpret the findings.**\n",
    "\n",
    "**Choose all correct statements:**\n",
    "- ___The number of flights during weekends is less than during weekdays (working days).___\n",
    "- The lowest number of flights is on Sunday.\n",
    "- ___There are less flights during winter than during summer.___"
   ]
  },
  {
   "cell_type": "code",
   "execution_count": 7,
   "metadata": {},
   "outputs": [
    {
     "data": {
      "image/png": "[encoded data removed]",
      "text/plain": [
       "plot without title"
      ]
     },
     "metadata": {
      "image/png": {
       "height": 420,
       "width": 420
      },
      "text/plain": {
       "height": 420,
       "width": 420
      }
     },
     "output_type": "display_data"
    }
   ],
   "source": [
    "barplot(table(df['Month']))"
   ]
  },
  {
   "cell_type": "code",
   "execution_count": 8,
   "metadata": {},
   "outputs": [
    {
     "data": {
      "image/png": "[encoded data removed]",
      "text/plain": [
       "plot without title"
      ]
     },
     "metadata": {
      "image/png": {
       "height": 420,
       "width": 420
      },
      "text/plain": {
       "height": 420,
       "width": 420
      }
     },
     "output_type": "display_data"
    }
   ],
   "source": [
    "barplot(table(df['DayOfWeek']))"
   ]
  },
  {
   "cell_type": "code",
   "execution_count": 19,
   "metadata": {},
   "outputs": [
    {
     "data": {
      "text/plain": [
       "\n",
       "     1      2      3      4      5      6      7      8      9     10     11 \n",
       "605765 569236 616090 598126 606293 608665 627931 612279 540908 556205 523272 \n",
       "    12 \n",
       "544958 "
      ]
     },
     "metadata": {},
     "output_type": "display_data"
    },
    {
     "data": {
      "text/html": [
       "<strong>1:</strong> TRUE"
      ],
      "text/latex": [
       "\\textbf{1:} TRUE"
      ],
      "text/markdown": [
       "**1:** TRUE"
      ],
      "text/plain": [
       "   1 \n",
       "TRUE "
      ]
     },
     "metadata": {},
     "output_type": "display_data"
    }
   ],
   "source": [
    "table(df['Month'])\n",
    "table(df['Month'])[1] + table(df['Month'])[2] + table(df['Month'])[12] < table(df['Month'])[6] + table(df['Month'])[7] + table(df['Month'])[8]"
   ]
  },
  {
   "cell_type": "markdown",
   "metadata": {},
   "source": [
    "**7. Examine the distribution of cancellation reasons with time. Make a bar plot of cancellation reasons aggregated by months.**\n",
    "\n",
    "**Choose all correct statements:**\n",
    "- ___December has the highest rate of cancellations due to weather.___ \n",
    "- The highest rate of cancellations in September is due to Security reasons.\n",
    "- ___April's top cancellation reason is carriers.___\n",
    "- Flights cancellations due to National Air System are more frequent than those due to carriers."
   ]
  },
  {
   "cell_type": "code",
   "execution_count": 42,
   "metadata": {},
   "outputs": [
    {
     "data": {
      "text/html": [
       "<table>\n",
       "<caption>A grouped_df: 41 × 3</caption>\n",
       "<thead>\n",
       "\t<tr><th scope=col>CancellationCode</th><th scope=col>Month</th><th scope=col>n</th></tr>\n",
       "\t<tr><th scope=col>&lt;fct&gt;</th><th scope=col>&lt;int&gt;</th><th scope=col>&lt;int&gt;</th></tr>\n",
       "</thead>\n",
       "<tbody>\n",
       "\t<tr><td>A</td><td> 1</td><td> 6635</td></tr>\n",
       "\t<tr><td>A</td><td> 2</td><td> 6090</td></tr>\n",
       "\t<tr><td>A</td><td> 3</td><td> 6038</td></tr>\n",
       "\t<tr><td>A</td><td> 4</td><td> 7312</td></tr>\n",
       "\t<tr><td>A</td><td> 5</td><td> 3157</td></tr>\n",
       "\t<tr><td>A</td><td> 6</td><td> 4251</td></tr>\n",
       "\t<tr><td>A</td><td> 7</td><td> 5292</td></tr>\n",
       "\t<tr><td>A</td><td> 8</td><td> 3852</td></tr>\n",
       "\t<tr><td>A</td><td> 9</td><td> 2246</td></tr>\n",
       "\t<tr><td>A</td><td>10</td><td> 2097</td></tr>\n",
       "\t<tr><td>A</td><td>11</td><td> 2510</td></tr>\n",
       "\t<tr><td>A</td><td>12</td><td> 4850</td></tr>\n",
       "\t<tr><td>B</td><td> 1</td><td> 6711</td></tr>\n",
       "\t<tr><td>B</td><td> 2</td><td>10034</td></tr>\n",
       "\t<tr><td>B</td><td> 3</td><td> 7520</td></tr>\n",
       "\t<tr><td>B</td><td> 4</td><td> 1479</td></tr>\n",
       "\t<tr><td>B</td><td> 5</td><td> 1461</td></tr>\n",
       "\t<tr><td>B</td><td> 6</td><td> 3448</td></tr>\n",
       "\t<tr><td>B</td><td> 7</td><td> 2612</td></tr>\n",
       "\t<tr><td>B</td><td> 8</td><td> 3582</td></tr>\n",
       "\t<tr><td>B</td><td> 9</td><td> 6478</td></tr>\n",
       "\t<tr><td>B</td><td>10</td><td>  600</td></tr>\n",
       "\t<tr><td>B</td><td>11</td><td>  937</td></tr>\n",
       "\t<tr><td>B</td><td>12</td><td>10042</td></tr>\n",
       "\t<tr><td>C</td><td> 1</td><td> 3962</td></tr>\n",
       "\t<tr><td>C</td><td> 2</td><td> 4470</td></tr>\n",
       "\t<tr><td>C</td><td> 3</td><td> 2621</td></tr>\n",
       "\t<tr><td>C</td><td> 4</td><td> 1564</td></tr>\n",
       "\t<tr><td>C</td><td> 5</td><td> 1608</td></tr>\n",
       "\t<tr><td>C</td><td> 6</td><td> 3232</td></tr>\n",
       "\t<tr><td>C</td><td> 7</td><td> 2694</td></tr>\n",
       "\t<tr><td>C</td><td> 8</td><td> 2401</td></tr>\n",
       "\t<tr><td>C</td><td> 9</td><td> 1188</td></tr>\n",
       "\t<tr><td>C</td><td>10</td><td>  552</td></tr>\n",
       "\t<tr><td>C</td><td>11</td><td> 1009</td></tr>\n",
       "\t<tr><td>C</td><td>12</td><td> 2887</td></tr>\n",
       "\t<tr><td>D</td><td> 2</td><td>    2</td></tr>\n",
       "\t<tr><td>D</td><td> 3</td><td>    4</td></tr>\n",
       "\t<tr><td>D</td><td> 5</td><td>    3</td></tr>\n",
       "\t<tr><td>D</td><td> 9</td><td>    1</td></tr>\n",
       "\t<tr><td>D</td><td>11</td><td>    2</td></tr>\n",
       "</tbody>\n",
       "</table>\n"
      ],
      "text/latex": [
       "A grouped\\_df: 41 × 3\n",
       "\\begin{tabular}{lll}\n",
       " CancellationCode & Month & n\\\\\n",
       " <fct> & <int> & <int>\\\\\n",
       "\\hline\n",
       "\t A &  1 &  6635\\\\\n",
       "\t A &  2 &  6090\\\\\n",
       "\t A &  3 &  6038\\\\\n",
       "\t A &  4 &  7312\\\\\n",
       "\t A &  5 &  3157\\\\\n",
       "\t A &  6 &  4251\\\\\n",
       "\t A &  7 &  5292\\\\\n",
       "\t A &  8 &  3852\\\\\n",
       "\t A &  9 &  2246\\\\\n",
       "\t A & 10 &  2097\\\\\n",
       "\t A & 11 &  2510\\\\\n",
       "\t A & 12 &  4850\\\\\n",
       "\t B &  1 &  6711\\\\\n",
       "\t B &  2 & 10034\\\\\n",
       "\t B &  3 &  7520\\\\\n",
       "\t B &  4 &  1479\\\\\n",
       "\t B &  5 &  1461\\\\\n",
       "\t B &  6 &  3448\\\\\n",
       "\t B &  7 &  2612\\\\\n",
       "\t B &  8 &  3582\\\\\n",
       "\t B &  9 &  6478\\\\\n",
       "\t B & 10 &   600\\\\\n",
       "\t B & 11 &   937\\\\\n",
       "\t B & 12 & 10042\\\\\n",
       "\t C &  1 &  3962\\\\\n",
       "\t C &  2 &  4470\\\\\n",
       "\t C &  3 &  2621\\\\\n",
       "\t C &  4 &  1564\\\\\n",
       "\t C &  5 &  1608\\\\\n",
       "\t C &  6 &  3232\\\\\n",
       "\t C &  7 &  2694\\\\\n",
       "\t C &  8 &  2401\\\\\n",
       "\t C &  9 &  1188\\\\\n",
       "\t C & 10 &   552\\\\\n",
       "\t C & 11 &  1009\\\\\n",
       "\t C & 12 &  2887\\\\\n",
       "\t D &  2 &     2\\\\\n",
       "\t D &  3 &     4\\\\\n",
       "\t D &  5 &     3\\\\\n",
       "\t D &  9 &     1\\\\\n",
       "\t D & 11 &     2\\\\\n",
       "\\end{tabular}\n"
      ],
      "text/markdown": [
       "\n",
       "A grouped_df: 41 × 3\n",
       "\n",
       "| CancellationCode &lt;fct&gt; | Month &lt;int&gt; | n &lt;int&gt; |\n",
       "|---|---|---|\n",
       "| A |  1 |  6635 |\n",
       "| A |  2 |  6090 |\n",
       "| A |  3 |  6038 |\n",
       "| A |  4 |  7312 |\n",
       "| A |  5 |  3157 |\n",
       "| A |  6 |  4251 |\n",
       "| A |  7 |  5292 |\n",
       "| A |  8 |  3852 |\n",
       "| A |  9 |  2246 |\n",
       "| A | 10 |  2097 |\n",
       "| A | 11 |  2510 |\n",
       "| A | 12 |  4850 |\n",
       "| B |  1 |  6711 |\n",
       "| B |  2 | 10034 |\n",
       "| B |  3 |  7520 |\n",
       "| B |  4 |  1479 |\n",
       "| B |  5 |  1461 |\n",
       "| B |  6 |  3448 |\n",
       "| B |  7 |  2612 |\n",
       "| B |  8 |  3582 |\n",
       "| B |  9 |  6478 |\n",
       "| B | 10 |   600 |\n",
       "| B | 11 |   937 |\n",
       "| B | 12 | 10042 |\n",
       "| C |  1 |  3962 |\n",
       "| C |  2 |  4470 |\n",
       "| C |  3 |  2621 |\n",
       "| C |  4 |  1564 |\n",
       "| C |  5 |  1608 |\n",
       "| C |  6 |  3232 |\n",
       "| C |  7 |  2694 |\n",
       "| C |  8 |  2401 |\n",
       "| C |  9 |  1188 |\n",
       "| C | 10 |   552 |\n",
       "| C | 11 |  1009 |\n",
       "| C | 12 |  2887 |\n",
       "| D |  2 |     2 |\n",
       "| D |  3 |     4 |\n",
       "| D |  5 |     3 |\n",
       "| D |  9 |     1 |\n",
       "| D | 11 |     2 |\n",
       "\n"
      ],
      "text/plain": [
       "   CancellationCode Month n    \n",
       "1  A                 1     6635\n",
       "2  A                 2     6090\n",
       "3  A                 3     6038\n",
       "4  A                 4     7312\n",
       "5  A                 5     3157\n",
       "6  A                 6     4251\n",
       "7  A                 7     5292\n",
       "8  A                 8     3852\n",
       "9  A                 9     2246\n",
       "10 A                10     2097\n",
       "11 A                11     2510\n",
       "12 A                12     4850\n",
       "13 B                 1     6711\n",
       "14 B                 2    10034\n",
       "15 B                 3     7520\n",
       "16 B                 4     1479\n",
       "17 B                 5     1461\n",
       "18 B                 6     3448\n",
       "19 B                 7     2612\n",
       "20 B                 8     3582\n",
       "21 B                 9     6478\n",
       "22 B                10      600\n",
       "23 B                11      937\n",
       "24 B                12    10042\n",
       "25 C                 1     3962\n",
       "26 C                 2     4470\n",
       "27 C                 3     2621\n",
       "28 C                 4     1564\n",
       "29 C                 5     1608\n",
       "30 C                 6     3232\n",
       "31 C                 7     2694\n",
       "32 C                 8     2401\n",
       "33 C                 9     1188\n",
       "34 C                10      552\n",
       "35 C                11     1009\n",
       "36 C                12     2887\n",
       "37 D                 2        2\n",
       "38 D                 3        4\n",
       "39 D                 5        3\n",
       "40 D                 9        1\n",
       "41 D                11        2"
      ]
     },
     "metadata": {},
     "output_type": "display_data"
    },
    {
     "data": {
      "image/png": "[encoded data removed]",
      "text/plain": [
       "plot without title"
      ]
     },
     "metadata": {
      "image/png": {
       "height": 420,
       "width": 420
      },
      "text/plain": {
       "height": 420,
       "width": 420
      }
     },
     "output_type": "display_data"
    }
   ],
   "source": [
    "df4 <- df[df$Cancelled == 1, c('CancellationCode','Month')]\n",
    "df5 <- df4 %>% group_by(CancellationCode, Month) %>% count(CancellationCode)\n",
    "df5\n",
    "barplot(formula = df5$n ~ df5$CancellationCode + df5$Month)\n",
    "#black is 'A' (Carrier)\n",
    "#grey is 'B' (Weather)\n",
    "#light-grey is 'C' (National Air System)"
   ]
  },
  {
   "cell_type": "markdown",
   "metadata": {},
   "source": [
    "**8. Which month has the greatest number of cancellations due to Carrier?** \n",
    "- May\n",
    "- January\n",
    "- September\n",
    "- ___April___ "
   ]
  },
  {
   "cell_type": "code",
   "execution_count": 44,
   "metadata": {},
   "outputs": [
    {
     "data": {
      "image/png": "[encoded data removed]",
      "text/plain": [
       "plot without title"
      ]
     },
     "metadata": {
      "image/png": {
       "height": 420,
       "width": 420
      },
      "text/plain": {
       "height": 420,
       "width": 420
      }
     },
     "output_type": "display_data"
    }
   ],
   "source": [
    "df6 <- filter(df, CancellationCode == 'A')\n",
    "barplot(table(df6['Month']))"
   ]
  },
  {
   "cell_type": "markdown",
   "metadata": {},
   "source": [
    "**9. Identify the carrier with the greatest number of cancellations due to carrier in the corresponding month from the previous question.**\n",
    "\n",
    "- 9E\n",
    "- EV\n",
    "- HA\n",
    "- ___AA___"
   ]
  },
  {
   "cell_type": "code",
   "execution_count": 53,
   "metadata": {},
   "outputs": [
    {
     "data": {
      "text/html": [
       "<strong>AA:</strong> 9609"
      ],
      "text/latex": [
       "\\textbf{AA:} 9609"
      ],
      "text/markdown": [
       "**AA:** 9609"
      ],
      "text/plain": [
       "  AA \n",
       "9609 "
      ]
     },
     "metadata": {},
     "output_type": "display_data"
    }
   ],
   "source": [
    "sort(table(df6['UniqueCarrier']), decreasing = TRUE)[1]"
   ]
  },
  {
   "cell_type": "markdown",
   "metadata": {},
   "source": [
    "**10. Examine median arrival and departure delays (in time) by carrier. Which carrier has the lowest median delay time for both arrivals and departures? Leave only non-negative values of delay times ('ArrDelay', 'DepDelay').\n",
    "[Boxplots](https://seaborn.pydata.org/generated/seaborn.boxplot.html) can be helpful in this exercise, as well as it might be a good idea to remove outliers in order to build nice graphs. You can exclude delay time values higher than a corresponding .95 percentile.**\n",
    "\n",
    "- EV\n",
    "- OO\n",
    "- AA\n",
    "- ___AQ___"
   ]
  },
  {
   "cell_type": "code",
   "execution_count": 89,
   "metadata": {},
   "outputs": [
    {
     "data": {
      "text/html": [
       "<table>\n",
       "<caption>A tibble: 1 × 2</caption>\n",
       "<thead>\n",
       "\t<tr><th scope=col>UniqueCarrier</th><th scope=col>n</th></tr>\n",
       "\t<tr><th scope=col>&lt;fct&gt;</th><th scope=col>&lt;dbl&gt;</th></tr>\n",
       "</thead>\n",
       "<tbody>\n",
       "\t<tr><td>AQ</td><td>5</td></tr>\n",
       "</tbody>\n",
       "</table>\n"
      ],
      "text/latex": [
       "A tibble: 1 × 2\n",
       "\\begin{tabular}{ll}\n",
       " UniqueCarrier & n\\\\\n",
       " <fct> & <dbl>\\\\\n",
       "\\hline\n",
       "\t AQ & 5\\\\\n",
       "\\end{tabular}\n"
      ],
      "text/markdown": [
       "\n",
       "A tibble: 1 × 2\n",
       "\n",
       "| UniqueCarrier &lt;fct&gt; | n &lt;dbl&gt; |\n",
       "|---|---|\n",
       "| AQ | 5 |\n",
       "\n"
      ],
      "text/plain": [
       "  UniqueCarrier n\n",
       "1 AQ            5"
      ]
     },
     "metadata": {},
     "output_type": "display_data"
    }
   ],
   "source": [
    "df %>% filter(ArrDelay > 0) %>% group_by(UniqueCarrier) %>% summarize(n = median(ArrDelay)) %>% arrange(n) %>% .[1, ]"
   ]
  },
  {
   "cell_type": "code",
   "execution_count": 55,
   "metadata": {},
   "outputs": [
    {
     "data": {
      "text/html": [
       "<table>\n",
       "<caption>A tibble: 1 × 2</caption>\n",
       "<thead>\n",
       "\t<tr><th scope=col>UniqueCarrier</th><th scope=col>n</th></tr>\n",
       "\t<tr><th scope=col>&lt;fct&gt;</th><th scope=col>&lt;dbl&gt;</th></tr>\n",
       "</thead>\n",
       "<tbody>\n",
       "\t<tr><td>AQ</td><td>7</td></tr>\n",
       "</tbody>\n",
       "</table>\n"
      ],
      "text/latex": [
       "A tibble: 1 × 2\n",
       "\\begin{tabular}{ll}\n",
       " UniqueCarrier & n\\\\\n",
       " <fct> & <dbl>\\\\\n",
       "\\hline\n",
       "\t AQ & 7\\\\\n",
       "\\end{tabular}\n"
      ],
      "text/markdown": [
       "\n",
       "A tibble: 1 × 2\n",
       "\n",
       "| UniqueCarrier &lt;fct&gt; | n &lt;dbl&gt; |\n",
       "|---|---|\n",
       "| AQ | 7 |\n",
       "\n"
      ],
      "text/plain": [
       "  UniqueCarrier n\n",
       "1 AQ            7"
      ]
     },
     "metadata": {},
     "output_type": "display_data"
    }
   ],
   "source": [
    "df %>% filter(DepDelay > 0) %>% group_by(UniqueCarrier) %>% summarize(n = median(DepDelay)) %>% arrange(n) %>% .[1, ]"
   ]
  },
  {
   "cell_type": "code",
   "execution_count": 87,
   "metadata": {},
   "outputs": [
    {
     "data": {
      "text/html": [
       "<strong>95%:</strong> 70"
      ],
      "text/latex": [
       "\\textbf{95\\textbackslash{}\\%:} 70"
      ],
      "text/markdown": [
       "**95%:** 70"
      ],
      "text/plain": [
       "95% \n",
       " 70 "
      ]
     },
     "metadata": {},
     "output_type": "display_data"
    }
   ],
   "source": [
    "arr_outliers <- quantile(df$DepDelay, 0.95, na.rm = TRUE)\n",
    "arr_outliers\n",
    "df7 <- df[!is.na(df$ArrDelay) & 0 < df$ArrDelay & df$ArrDelay <= arr_outliers, c('ArrDelay', 'UniqueCarrier')]"
   ]
  },
  {
   "cell_type": "code",
   "execution_count": 88,
   "metadata": {},
   "outputs": [
    {
     "data": {
      "text/html": [
       "<strong>95%:</strong> 70"
      ],
      "text/latex": [
       "\\textbf{95\\textbackslash{}\\%:} 70"
      ],
      "text/markdown": [
       "**95%:** 70"
      ],
      "text/plain": [
       "95% \n",
       " 70 "
      ]
     },
     "metadata": {},
     "output_type": "display_data"
    }
   ],
   "source": [
    "dep_outliers <- quantile(df$DepDelay, 0.95, na.rm = TRUE)\n",
    "dep_outliers\n",
    "df8 <- df[!is.na(df$DepDelay) & 0 < df$DepDelay & df$DepDelay <= dep_outliers, c('DepDelay', 'UniqueCarrier')]"
   ]
  },
  {
   "cell_type": "code",
   "execution_count": 82,
   "metadata": {},
   "outputs": [
    {
     "data": {
      "image/png": "[encoded data removed]",
      "text/plain": [
       "plot without title"
      ]
     },
     "metadata": {
      "image/png": {
       "height": 420,
       "width": 420
      },
      "text/plain": {
       "height": 420,
       "width": 420
      }
     },
     "output_type": "display_data"
    }
   ],
   "source": [
    "boxplot(df7$ArrDelay~df7$UniqueCarrier, xlab=\"Carriers\", ylab=\"Delays\",\n",
    "        col=c(\"aliceblue\", \"azure4\", \"orange\", \"salmon\", \"purple\", \"chocolate4\", \"gray14\", \"royalblue1\", \"peachpuff\", \"red\", \"green\",\n",
    "              \"cyan4\", \"antiquewhite\", \"yellow\", \"mediumblue\", \"navajowhite4\", \"gray32\", \"burlywood\", \"turquoise1\", \"palegreen1\"))"
   ]
  },
  {
   "cell_type": "code",
   "execution_count": 76,
   "metadata": {},
   "outputs": [
    {
     "data": {
      "text/plain": [
       "\n",
       "     9E      AA      AQ      AS      B6      CO      DL      EV      F9      FL \n",
       " 262208  604885    7800  151102  196091  298455  451931  280575   95762  261684 \n",
       "     HA      MQ      NW      OH      OO      UA      US      WN      XE      YV \n",
       "  61826  490693  347652  197607  567159  449515  453589 1201754  374510  254930 "
      ]
     },
     "metadata": {},
     "output_type": "display_data"
    }
   ],
   "source": [
    "table(df['UniqueCarrier'])"
   ]
  },
  {
   "cell_type": "code",
   "execution_count": 83,
   "metadata": {},
   "outputs": [
    {
     "data": {
      "image/png": "[encoded data removed]",
      "text/plain": [
       "plot without title"
      ]
     },
     "metadata": {
      "image/png": {
       "height": 420,
       "width": 420
      },
      "text/plain": {
       "height": 420,
       "width": 420
      }
     },
     "output_type": "display_data"
    }
   ],
   "source": [
    "boxplot(df8$DepDelay~df8$UniqueCarrier, xlab=\"Carriers\", ylab=\"Delays\",\n",
    "        col=c(\"aliceblue\", \"azure4\", \"orange\", \"salmon\", \"purple\", \"chocolate4\", \"gray14\", \"royalblue1\", \"peachpuff\", \"red\", \"green\",\n",
    "              \"cyan4\", \"antiquewhite\", \"yellow\", \"mediumblue\", \"navajowhite4\", \"gray32\", \"burlywood\", \"turquoise1\", \"palegreen1\"))"
   ]
  }
 ],
 "metadata": {
  "kernelspec": {
   "display_name": "R",
   "language": "R",
   "name": "ir"
  },
  "language_info": {
   "codemirror_mode": "r",
   "file_extension": ".r",
   "mimetype": "text/x-r-source",
   "name": "R",
   "pygments_lexer": "r",
   "version": "3.6.3"
  }
 },
 "nbformat": 4,
 "nbformat_minor": 4
}
